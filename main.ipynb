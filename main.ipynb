{
 "cells": [
  {
   "cell_type": "code",
   "execution_count": 1,
   "metadata": {},
   "outputs": [],
   "source": [
    "import sys\n",
    "\n",
    "assert sys.version_info >= (3, 7)"
   ]
  },
  {
   "cell_type": "code",
   "execution_count": 2,
   "metadata": {},
   "outputs": [],
   "source": [
    "from packaging import version\n",
    "import sklearn\n",
    "\n",
    "assert version.parse(sklearn.__version__) >= version.parse(\"1.0.1\")"
   ]
  },
  {
   "cell_type": "code",
   "execution_count": 7,
   "metadata": {},
   "outputs": [],
   "source": [
    "from pathlib import Path\n",
    "import pandas as pd\n",
    "\n",
    "student = pd.read_csv(\"./datasets/student_sleep_patterns.csv\")\n"
   ]
  },
  {
   "cell_type": "code",
   "execution_count": 8,
   "metadata": {},
   "outputs": [
    {
     "name": "stdout",
     "output_type": "stream",
     "text": [
      "     Student_ID  Age  Gender University_Year  Sleep_Duration  Study_Hours  \\\n",
      "0             1   24   Other        2nd Year             7.7          7.9   \n",
      "1             2   21    Male        1st Year             6.3          6.0   \n",
      "2             3   22    Male        4th Year             5.1          6.7   \n",
      "3             4   24   Other        4th Year             6.3          8.6   \n",
      "4             5   20    Male        4th Year             4.7          2.7   \n",
      "..          ...  ...     ...             ...             ...          ...   \n",
      "495         496   24    Male        2nd Year             5.1          9.3   \n",
      "496         497   20    Male        2nd Year             8.9          7.7   \n",
      "497         498   21    Male        3rd Year             5.7          6.4   \n",
      "498         499   18  Female        2nd Year             4.9          0.5   \n",
      "499         500   21    Male        3rd Year             7.9         11.6   \n",
      "\n",
      "     Screen_Time  Caffeine_Intake  Physical_Activity  Sleep_Quality  \\\n",
      "0            3.4                2                 37             10   \n",
      "1            1.9                5                 74              2   \n",
      "2            3.9                5                 53              5   \n",
      "3            2.8                4                 55              9   \n",
      "4            2.7                0                 85              3   \n",
      "..           ...              ...                ...            ...   \n",
      "495          1.9                4                110              4   \n",
      "496          3.5                3                 40              4   \n",
      "497          3.9                1                 68             10   \n",
      "498          3.5                0                 12              2   \n",
      "499          1.0                0                 86              1   \n",
      "\n",
      "     Weekday_Sleep_Start  Weekend_Sleep_Start  Weekday_Sleep_End  \\\n",
      "0                  14.16                 4.05               7.41   \n",
      "1                   8.73                 7.10               8.21   \n",
      "2                  20.00                20.47               6.88   \n",
      "3                  19.82                 4.08               6.69   \n",
      "4                  20.98                 6.12               8.98   \n",
      "..                   ...                  ...                ...   \n",
      "495                17.42                 8.43               6.93   \n",
      "496                 1.22                15.54               5.85   \n",
      "497                 9.94                 2.25               5.46   \n",
      "498                19.10                15.49               8.35   \n",
      "499                 7.54                14.12               7.01   \n",
      "\n",
      "     Weekend_Sleep_End  \n",
      "0                 7.06  \n",
      "1                10.21  \n",
      "2                10.92  \n",
      "3                 9.42  \n",
      "4                 9.01  \n",
      "..                 ...  \n",
      "495              10.78  \n",
      "496               7.23  \n",
      "497              10.72  \n",
      "498               7.20  \n",
      "499               9.19  \n",
      "\n",
      "[500 rows x 14 columns]\n"
     ]
    }
   ],
   "source": [
    "print(student)"
   ]
  }
 ],
 "metadata": {
  "kernelspec": {
   "display_name": "Python 3",
   "language": "python",
   "name": "python3"
  },
  "language_info": {
   "codemirror_mode": {
    "name": "ipython",
    "version": 3
   },
   "file_extension": ".py",
   "mimetype": "text/x-python",
   "name": "python",
   "nbconvert_exporter": "python",
   "pygments_lexer": "ipython3",
   "version": "3.12.1"
  }
 },
 "nbformat": 4,
 "nbformat_minor": 2
}
